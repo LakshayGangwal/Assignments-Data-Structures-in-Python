{
  "nbformat": 4,
  "nbformat_minor": 0,
  "metadata": {
    "colab": {
      "provenance": [],
      "authorship_tag": "ABX9TyN9+v5FqLMIdj1hv0fctK1+",
      "include_colab_link": true
    },
    "kernelspec": {
      "name": "python3",
      "display_name": "Python 3"
    },
    "language_info": {
      "name": "python"
    }
  },
  "cells": [
    {
      "cell_type": "markdown",
      "metadata": {
        "id": "view-in-github",
        "colab_type": "text"
      },
      "source": [
        "<a href=\"https://colab.research.google.com/github/LakshayGangwal/Assignments-Data-Structures-in-Python/blob/main/Assignment%201.ipynb\" target=\"_parent\"><img src=\"https://colab.research.google.com/assets/colab-badge.svg\" alt=\"Open In Colab\"/></a>"
      ]
    },
    {
      "cell_type": "code",
      "execution_count": null,
      "metadata": {
        "colab": {
          "base_uri": "https://localhost:8080/"
        },
        "id": "423E3OaRxL4h",
        "outputId": "34ce308d-f0ac-4733-fd8f-c45fd0bd8523"
      },
      "outputs": [
        {
          "output_type": "stream",
          "name": "stdout",
          "text": [
            "Enter a string: andaman\n",
            "namadna\n"
          ]
        }
      ],
      "source": [
        "# Q-1 Write a code to reverse a string\n",
        "\n",
        "def reverse_string(s):\n",
        "    return s[::-1]\n",
        "\n",
        "str = input(\"Enter a string: \")\n",
        "print(reverse_string(str))"
      ]
    },
    {
      "cell_type": "code",
      "source": [
        "# Q-2 Write a code to count the number of vowels in a string\n",
        "\n",
        "def count_vowel(s):\n",
        "    vowels=\"AEIOUaeiou\"\n",
        "    count = 0\n",
        "    for i in s:\n",
        "        if i in vowels:\n",
        "          count+=1\n",
        "        else:\n",
        "          continue\n",
        "    return count\n",
        "\n",
        "str = input(\"Enter a string: \")\n",
        "print(count_vowel(str))\n"
      ],
      "metadata": {
        "id": "CcRSz4UsEHJW",
        "outputId": "c0e11491-6b75-450b-af34-19484cd3e4b8",
        "colab": {
          "base_uri": "https://localhost:8080/"
        }
      },
      "execution_count": null,
      "outputs": [
        {
          "output_type": "stream",
          "name": "stdout",
          "text": [
            "Enter a string: Data analytics\n",
            "5\n"
          ]
        }
      ]
    },
    {
      "cell_type": "code",
      "source": [
        "# Q-3  Write a code to check if a given string is a palindrome or not\n",
        "\n",
        "def palindrome(s):\n",
        "    if s==s[::-1]:\n",
        "      return(s + \" is a Palindrome\")\n",
        "    else:\n",
        "      return(s + \" is not a Palindrome\")\n",
        "\n",
        "str=input(\"Enter your word: \")\n",
        "palindrome(str)"
      ],
      "metadata": {
        "id": "7O1lQWudQphI",
        "outputId": "0749c082-8bc4-427b-db58-71e637575990",
        "colab": {
          "base_uri": "https://localhost:8080/",
          "height": 53
        }
      },
      "execution_count": 13,
      "outputs": [
        {
          "name": "stdout",
          "output_type": "stream",
          "text": [
            "Enter your word: rotator\n"
          ]
        },
        {
          "output_type": "execute_result",
          "data": {
            "text/plain": [
              "'rotator is a Palindrome'"
            ],
            "application/vnd.google.colaboratory.intrinsic+json": {
              "type": "string"
            }
          },
          "metadata": {},
          "execution_count": 13
        }
      ]
    },
    {
      "cell_type": "code",
      "source": [
        "# q-4 Write a code to check if two given strings are anagrams of each other\n",
        "\n",
        "def anagram(s1,s2):\n",
        "  if sorted(s1)==sorted(s2):\n",
        "    print(s1 + \" and \" + s2 + \" are anagrams\")\n",
        "  else: print(s1 + \" and \" + s2 + \" are not anagrams\")\n",
        "\n",
        "str1=input(\"Enter first string: \")\n",
        "str2=input(\"Enter second string: \")\n",
        "anagram(str1,str2)"
      ],
      "metadata": {
        "id": "kr5wt5_qSW3k",
        "outputId": "dd786ccd-654c-42cd-fe2c-6d76ee707e75",
        "colab": {
          "base_uri": "https://localhost:8080/"
        }
      },
      "execution_count": 18,
      "outputs": [
        {
          "output_type": "stream",
          "name": "stdout",
          "text": [
            "Enter first string: earth\n",
            "Enter second string: heart\n",
            "earth and heart are anagrams\n"
          ]
        }
      ]
    },
    {
      "cell_type": "code",
      "source": [
        "# Q-5 Write a code to find all occurrences of a given substring within another string\n",
        "\n",
        "def check_script(s1,s2):\n",
        "    if s2 in s1:\n",
        "      print(s2 + \" is a substring\")\n",
        "    else:\n",
        "      print(s2 + \" is not a substring\")\n",
        "\n",
        "str1 = input(\"Enter string 1 :\")\n",
        "str2 = input(\"Enter string 2 :\")\n",
        "check_script(str1,str2)"
      ],
      "metadata": {
        "id": "SpFGCWpDTlLs",
        "outputId": "2758e3d4-7531-41e5-a1ae-38f28323678f",
        "colab": {
          "base_uri": "https://localhost:8080/"
        }
      },
      "execution_count": 42,
      "outputs": [
        {
          "output_type": "stream",
          "name": "stdout",
          "text": [
            "Enter string 1 :Hello PWskills\n",
            "Enter string 2 :skill\n",
            "skill is a substring\n"
          ]
        }
      ]
    }
  ]
}