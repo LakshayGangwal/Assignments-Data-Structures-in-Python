{
  "cells": [
    {
      "cell_type": "markdown",
      "metadata": {
        "id": "view-in-github",
        "colab_type": "text"
      },
      "source": [
        "<a href=\"https://colab.research.google.com/github/LakshayGangwal/Assignments-Data-Structures-in-Python/blob/main/star_patterns_txt.ipynb\" target=\"_parent\"><img src=\"https://colab.research.google.com/assets/colab-badge.svg\" alt=\"Open In Colab\"/></a>"
      ]
    },
    {
      "cell_type": "code",
      "source": [
        "s=\"hello \"\n",
        "print(s*5)\n",
        "for i in s:\n",
        "  print(i)"
      ],
      "metadata": {
        "id": "RN0_W6ssvdVG",
        "outputId": "2c3f006d-5564-4092-86d6-5ec8237015de",
        "colab": {
          "base_uri": "https://localhost:8080/"
        }
      },
      "id": "RN0_W6ssvdVG",
      "execution_count": null,
      "outputs": [
        {
          "output_type": "stream",
          "name": "stdout",
          "text": [
            "hello hello hello hello hello \n",
            "h\n",
            "e\n",
            "l\n",
            "l\n",
            "o\n",
            " \n"
          ]
        }
      ]
    },
    {
      "cell_type": "code",
      "source": [
        "n=5\n",
        "for i in range(1,n+1):\n",
        "  for j in range(1,i+1):\n",
        "    print(j,end=\"\")\n",
        "  print()"
      ],
      "metadata": {
        "id": "z5J4JLFkl35J",
        "outputId": "ae64561d-4680-4df0-9142-9f6792b99211",
        "colab": {
          "base_uri": "https://localhost:8080/"
        }
      },
      "id": "z5J4JLFkl35J",
      "execution_count": null,
      "outputs": [
        {
          "output_type": "stream",
          "name": "stdout",
          "text": [
            "1\n",
            "12\n",
            "123\n",
            "1234\n",
            "12345\n"
          ]
        }
      ]
    },
    {
      "cell_type": "code",
      "source": [
        "n=5\n",
        "number=\"\"\n",
        "for i in range(1,n+1):\n",
        "    number+=str(i)\n",
        "    print(number)"
      ],
      "metadata": {
        "id": "jhFyLkTGmZyx",
        "outputId": "3376b4cd-bf74-4c1f-fa90-ea7038b66251",
        "colab": {
          "base_uri": "https://localhost:8080/"
        }
      },
      "id": "jhFyLkTGmZyx",
      "execution_count": null,
      "outputs": [
        {
          "output_type": "stream",
          "name": "stdout",
          "text": [
            "*\n",
            "**\n",
            "***\n",
            "****\n",
            "*****\n"
          ]
        }
      ]
    },
    {
      "cell_type": "code",
      "source": [
        "n=5\n",
        "number=\"\"\n",
        "for i in range(1,n+1):\n",
        "    number+=\"*\"\n",
        "    print(number)"
      ],
      "metadata": {
        "id": "n6mJuaNAm8IV"
      },
      "id": "n6mJuaNAm8IV",
      "execution_count": null,
      "outputs": []
    },
    {
      "cell_type": "code",
      "source": [
        "for i in range(6,0,-1):\n",
        "  for j in range(0,i):\n",
        "    print(j,end=\"\")\n",
        "  print()"
      ],
      "metadata": {
        "id": "EaPZTTd-oSWw",
        "outputId": "be0db17f-d3a1-4288-a1b0-9416347ffc88",
        "colab": {
          "base_uri": "https://localhost:8080/"
        }
      },
      "id": "EaPZTTd-oSWw",
      "execution_count": null,
      "outputs": [
        {
          "output_type": "stream",
          "name": "stdout",
          "text": [
            "012345\n",
            "01234\n",
            "0123\n",
            "012\n",
            "01\n",
            "0\n"
          ]
        }
      ]
    },
    {
      "cell_type": "code",
      "source": [
        "for i in range(6,0,-1):\n",
        "    print(\"*\"*i)"
      ],
      "metadata": {
        "id": "_s6uChxZw6jd",
        "outputId": "92c07f93-3983-4c7a-a19d-f380daa6dd3d",
        "colab": {
          "base_uri": "https://localhost:8080/"
        }
      },
      "id": "_s6uChxZw6jd",
      "execution_count": null,
      "outputs": [
        {
          "output_type": "stream",
          "name": "stdout",
          "text": [
            "******\n",
            "*****\n",
            "****\n",
            "***\n",
            "**\n",
            "*\n"
          ]
        }
      ]
    },
    {
      "cell_type": "code",
      "source": [
        "n=5\n",
        "for i in range(1,n+1):\n",
        "  print(\" \"*(n-i) + \"* \"*i)"
      ],
      "metadata": {
        "id": "hP5BmIbuyWEc",
        "outputId": "3d5d77db-640b-489f-fe12-f9b8be363c22",
        "colab": {
          "base_uri": "https://localhost:8080/"
        }
      },
      "id": "hP5BmIbuyWEc",
      "execution_count": null,
      "outputs": [
        {
          "output_type": "stream",
          "name": "stdout",
          "text": [
            "    * \n",
            "   * * \n",
            "  * * * \n",
            " * * * * \n",
            "* * * * * \n"
          ]
        }
      ]
    },
    {
      "cell_type": "code",
      "source": [
        "n=5\n",
        "for i in range(n,0,-1):\n",
        "  print(\" \"*(i-n) + \"* \"*i)"
      ],
      "metadata": {
        "id": "9XM6MRKEyyyV",
        "outputId": "7722486e-2c19-48c3-9eb8-f1ce7575fc0f",
        "colab": {
          "base_uri": "https://localhost:8080/"
        }
      },
      "id": "9XM6MRKEyyyV",
      "execution_count": null,
      "outputs": [
        {
          "output_type": "stream",
          "name": "stdout",
          "text": [
            "* * * * * \n",
            "* * * * \n",
            "* * * \n",
            "* * \n",
            "* \n"
          ]
        }
      ]
    },
    {
      "cell_type": "code",
      "source": [
        "n=5\n",
        "for i in range(n,0,-1):\n",
        "  print(\" \"*(n-i) + \"* \"*i)"
      ],
      "metadata": {
        "id": "CxgVQeXjy-S0",
        "outputId": "ea077b72-a7c7-4d66-c3d9-55bc44387385",
        "colab": {
          "base_uri": "https://localhost:8080/"
        }
      },
      "id": "CxgVQeXjy-S0",
      "execution_count": null,
      "outputs": [
        {
          "output_type": "stream",
          "name": "stdout",
          "text": [
            "* * * * * \n",
            " * * * * \n",
            "  * * * \n",
            "   * * \n",
            "    * \n"
          ]
        }
      ]
    },
    {
      "cell_type": "code",
      "source": [
        "n=5\n",
        "for i in range(n,0,-1):\n",
        "  print(\" \"*(n-i) + \"* \"*i)\n",
        "for j in range(1,n+1):\n",
        "  print(\" \"*(n-j) + \"* \"*j)\n"
      ],
      "metadata": {
        "id": "bjjyw5VPzcb1",
        "outputId": "a6d0f54b-b070-443f-8840-a4555e8e4f12",
        "colab": {
          "base_uri": "https://localhost:8080/"
        }
      },
      "id": "bjjyw5VPzcb1",
      "execution_count": null,
      "outputs": [
        {
          "output_type": "stream",
          "name": "stdout",
          "text": [
            "* * * * * \n",
            " * * * * \n",
            "  * * * \n",
            "   * * \n",
            "    * \n",
            "    * \n",
            "   * * \n",
            "  * * * \n",
            " * * * * \n",
            "* * * * * \n"
          ]
        }
      ]
    },
    {
      "cell_type": "code",
      "source": [
        "n=5\n",
        "for j in range(1,n+1):\n",
        "  print(\" \"*(n-j) + \"* \"*j)\n",
        "for i in range(n-1,0,-1):\n",
        "  print(\" \"*(n-i) + \"* \"*i)"
      ],
      "metadata": {
        "id": "f44TwYabz5fV",
        "outputId": "d15ede30-cd3b-455b-af65-53db77977d11",
        "colab": {
          "base_uri": "https://localhost:8080/"
        }
      },
      "id": "f44TwYabz5fV",
      "execution_count": null,
      "outputs": [
        {
          "output_type": "stream",
          "name": "stdout",
          "text": [
            "    * \n",
            "   * * \n",
            "  * * * \n",
            " * * * * \n",
            "* * * * * \n",
            " * * * * \n",
            "  * * * \n",
            "   * * \n",
            "    * \n"
          ]
        }
      ]
    }
  ],
  "metadata": {
    "kernelspec": {
      "display_name": "Python 3",
      "name": "python3"
    },
    "language_info": {
      "name": "python"
    },
    "required_libs": [],
    "colab": {
      "provenance": [],
      "include_colab_link": true
    }
  },
  "nbformat": 4,
  "nbformat_minor": 5
}