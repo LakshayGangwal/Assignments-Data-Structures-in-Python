{
  "nbformat": 4,
  "nbformat_minor": 0,
  "metadata": {
    "colab": {
      "provenance": [],
      "authorship_tag": "ABX9TyO6323QessUyVJyjDtueVXI",
      "include_colab_link": true
    },
    "kernelspec": {
      "name": "python3",
      "display_name": "Python 3"
    },
    "language_info": {
      "name": "python"
    }
  },
  "cells": [
    {
      "cell_type": "markdown",
      "metadata": {
        "id": "view-in-github",
        "colab_type": "text"
      },
      "source": [
        "<a href=\"https://colab.research.google.com/github/LakshayGangwal/Assignments-Data-Structures-in-Python/blob/main/Copy_of_Untitled0.ipynb\" target=\"_parent\"><img src=\"https://colab.research.google.com/assets/colab-badge.svg\" alt=\"Open In Colab\"/></a>"
      ]
    },
    {
      "cell_type": "code",
      "execution_count": null,
      "metadata": {
        "colab": {
          "base_uri": "https://localhost:8080/"
        },
        "id": "423E3OaRxL4h",
        "outputId": "34ce308d-f0ac-4733-fd8f-c45fd0bd8523"
      },
      "outputs": [
        {
          "output_type": "stream",
          "name": "stdout",
          "text": [
            "Enter a string: andaman\n",
            "namadna\n"
          ]
        }
      ],
      "source": [
        "# Q-1 Write a code to reverse a string\n",
        "\n",
        "def reverse_string(s):\n",
        "    return s[::-1]\n",
        "\n",
        "str = input(\"Enter a string: \")\n",
        "print(reverse_string(str))"
      ]
    },
    {
      "cell_type": "code",
      "source": [
        "# q-2 Write a code to count the number of vowels in a string\n",
        "\n",
        "def count_vowel(s):\n",
        "    vowels=\"AEIOUaeiou\"\n",
        "    count = 0\n",
        "    for i in s:\n",
        "        if i in vowels:\n",
        "          count+=1\n",
        "        else:\n",
        "          continue\n",
        "    return count\n",
        "\n",
        "str = input(\"Enter a string: \")\n",
        "print(count_vowel(str))\n"
      ],
      "metadata": {
        "id": "CcRSz4UsEHJW",
        "outputId": "c0e11491-6b75-450b-af34-19484cd3e4b8",
        "colab": {
          "base_uri": "https://localhost:8080/"
        }
      },
      "execution_count": 3,
      "outputs": [
        {
          "output_type": "stream",
          "name": "stdout",
          "text": [
            "Enter a string: Data analytics\n",
            "5\n"
          ]
        }
      ]
    }
  ]
}