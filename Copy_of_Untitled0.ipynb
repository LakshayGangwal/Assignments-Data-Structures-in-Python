{
  "nbformat": 4,
  "nbformat_minor": 0,
  "metadata": {
    "colab": {
      "provenance": [],
      "authorship_tag": "ABX9TyPnSmnkKnJzMSbzEqmo7VN6",
      "include_colab_link": true
    },
    "kernelspec": {
      "name": "python3",
      "display_name": "Python 3"
    },
    "language_info": {
      "name": "python"
    }
  },
  "cells": [
    {
      "cell_type": "markdown",
      "metadata": {
        "id": "view-in-github",
        "colab_type": "text"
      },
      "source": [
        "<a href=\"https://colab.research.google.com/github/LakshayGangwal/Assignments-Data-Structures-in-Python/blob/main/Copy_of_Untitled0.ipynb\" target=\"_parent\"><img src=\"https://colab.research.google.com/assets/colab-badge.svg\" alt=\"Open In Colab\"/></a>"
      ]
    },
    {
      "cell_type": "code",
      "execution_count": null,
      "metadata": {
        "colab": {
          "base_uri": "https://localhost:8080/"
        },
        "id": "423E3OaRxL4h",
        "outputId": "34ce308d-f0ac-4733-fd8f-c45fd0bd8523"
      },
      "outputs": [
        {
          "output_type": "stream",
          "name": "stdout",
          "text": [
            "Enter a string: andaman\n",
            "namadna\n"
          ]
        }
      ],
      "source": [
        "# Q-1 Write a code to reverse a string\n",
        "\n",
        "def reverse_string(s):\n",
        "    return s[::-1]\n",
        "\n",
        "str = input(\"Enter a string: \")\n",
        "print(reverse_string(str))"
      ]
    },
    {
      "cell_type": "code",
      "source": [
        "# Q-2 Write a code to count the number of vowels in a string\n",
        "\n",
        "def count_vowel(s):\n",
        "    vowels=\"AEIOUaeiou\"\n",
        "    count = 0\n",
        "    for i in s:\n",
        "        if i in vowels:\n",
        "          count+=1\n",
        "        else:\n",
        "          continue\n",
        "    return count\n",
        "\n",
        "str = input(\"Enter a string: \")\n",
        "print(count_vowel(str))\n"
      ],
      "metadata": {
        "id": "CcRSz4UsEHJW",
        "outputId": "c0e11491-6b75-450b-af34-19484cd3e4b8",
        "colab": {
          "base_uri": "https://localhost:8080/"
        }
      },
      "execution_count": null,
      "outputs": [
        {
          "output_type": "stream",
          "name": "stdout",
          "text": [
            "Enter a string: Data analytics\n",
            "5\n"
          ]
        }
      ]
    },
    {
      "cell_type": "code",
      "source": [
        "# Q-3  Write a code to check if a given string is a palindrome or not\n",
        "\n",
        "def palindrome(s):\n",
        "    if s==s[::-1]:\n",
        "      return(s + \" is a Palindrome\")\n",
        "    else:\n",
        "      return(s + \" is not a Palindrome\")\n",
        "\n",
        "str=input(\"Enter your word: \")\n",
        "palindrome(str)"
      ],
      "metadata": {
        "colab": {
          "base_uri": "https://localhost:8080/",
          "height": 53
        },
        "id": "7O1lQWudQphI",
        "outputId": "0749c082-8bc4-427b-db58-71e637575990"
      },
      "execution_count": null,
      "outputs": [
        {
          "name": "stdout",
          "output_type": "stream",
          "text": [
            "Enter your word: rotator\n"
          ]
        },
        {
          "output_type": "execute_result",
          "data": {
            "text/plain": [
              "'rotator is a Palindrome'"
            ],
            "application/vnd.google.colaboratory.intrinsic+json": {
              "type": "string"
            }
          },
          "metadata": {},
          "execution_count": 13
        }
      ]
    },
    {
      "cell_type": "code",
      "source": [
        "# q-4 Write a code to check if two given strings are anagrams of each other\n",
        "\n",
        "def anagram(s1,s2):\n",
        "  if sorted(s1)==sorted(s2):\n",
        "    print(s1 + \" and \" + s2 + \" are anagrams\")\n",
        "  else: print(s1 + \" and \" + s2 + \" are not anagrams\")\n",
        "\n",
        "str1=input(\"Enter first string: \")\n",
        "str2=input(\"Enter second string: \")\n",
        "anagram(str1,str2)"
      ],
      "metadata": {
        "colab": {
          "base_uri": "https://localhost:8080/"
        },
        "id": "kr5wt5_qSW3k",
        "outputId": "dd786ccd-654c-42cd-fe2c-6d76ee707e75"
      },
      "execution_count": null,
      "outputs": [
        {
          "output_type": "stream",
          "name": "stdout",
          "text": [
            "Enter first string: earth\n",
            "Enter second string: heart\n",
            "earth and heart are anagrams\n"
          ]
        }
      ]
    },
    {
      "cell_type": "code",
      "source": [
        "# Q-5 Write a code to find all occurrences of a given substring within another string\n",
        "\n",
        "def check_script(s1,s2):\n",
        "    if s2 in s1:\n",
        "      print(s2 + \" is a substring\")\n",
        "    else:\n",
        "      print(s2 + \" is not a substring\")\n",
        "\n",
        "str1 = input(\"Enter string 1 :\")\n",
        "str2 = input(\"Enter string 2 :\")\n",
        "check_script(str1,str2)\n",
        "\n",
        "# INSIGHTS: this program could also be done with the help of .find() method"
      ],
      "metadata": {
        "colab": {
          "base_uri": "https://localhost:8080/"
        },
        "id": "SpFGCWpDTlLs",
        "outputId": "2758e3d4-7531-41e5-a1ae-38f28323678f"
      },
      "execution_count": null,
      "outputs": [
        {
          "output_type": "stream",
          "name": "stdout",
          "text": [
            "Enter string 1 :Hello PWskills\n",
            "Enter string 2 :skill\n",
            "skill is a substring\n"
          ]
        }
      ]
    },
    {
      "cell_type": "code",
      "source": [
        "# Q-6 Write a code to perform basic string compression using the counts of repeated characters\n",
        "\n",
        "def count_char(s):\n",
        "    count=0\n",
        "    l=list(s)\n",
        "    l.sort()\n",
        "    for i in range(len(l)):\n",
        "      if l[i]==l[i-1]: continue\n",
        "      else: print(l[i])\n",
        "\n",
        "str = input(\"enter your string :\")\n",
        "count_char(str)\n",
        "\n"
      ],
      "metadata": {
        "id": "qIc0L1xNnE_Z",
        "outputId": "2f16581c-49df-4fa8-ca13-0b91a5d2c9aa",
        "colab": {
          "base_uri": "https://localhost:8080/"
        }
      },
      "execution_count": null,
      "outputs": [
        {
          "output_type": "stream",
          "name": "stdout",
          "text": [
            "enter your string :Lakshay\n",
            "L\n",
            "a\n",
            "h\n",
            "k\n",
            "s\n",
            "y\n"
          ]
        }
      ]
    },
    {
      "cell_type": "code",
      "source": [
        "# Q-7 Write a code to determine if a string has all unique characters\n",
        "\n",
        "def check_unique(s):\n",
        "    l=list(s)\n",
        "    l.sort()\n",
        "    for i in range(len(l)):\n",
        "        if l[i]==l[i-1]:\n",
        "          print(\"All the character in string are NOT unique\")\n",
        "          break\n",
        "        elif i==len(l)-1:\n",
        "          print(\"All the character in string are unique\")\n",
        "\n",
        "\n",
        "str = input(\"enter your string :\")\n",
        "check_unique(str)"
      ],
      "metadata": {
        "colab": {
          "base_uri": "https://localhost:8080/"
        },
        "id": "cz0-tj04M30p",
        "outputId": "82c5a5cc-7346-4250-8e54-a5248dde5f8b"
      },
      "execution_count": null,
      "outputs": [
        {
          "output_type": "stream",
          "name": "stdout",
          "text": [
            "enter your string :ABCDEFGH\n",
            "All the character in string are unique\n"
          ]
        }
      ]
    },
    {
      "cell_type": "code",
      "source": [
        "# Q-8 Write a code to convert a given string to uppercase or lowercase\n",
        "\n",
        "def str_convert(s,choice):\n",
        "    if choice==\"upper\":\n",
        "        return s.upper()\n",
        "    elif choice==\"lower\":\n",
        "        return s.lower()\n",
        "    else: return (\"incorrect input\")\n",
        "\n",
        "str=input(\"enter your string :\")\n",
        "choice=input(\"\"\"type \"upper\" for upper case or \"lower\" for lower case conversion :\"\"\")\n",
        "str_convert(str,choice)\n",
        "\n",
        "# INSIGHTS: alternate way\n",
        "\n",
        "#def convert_case(s):\n",
        " #   print(\"Original String:\", s)\n",
        " #   print(\"Uppercase:\", s.upper())\n",
        " #   print(\"Lowercase:\", s.lower())\n"
      ],
      "metadata": {
        "colab": {
          "base_uri": "https://localhost:8080/",
          "height": 70
        },
        "id": "W1t5rDEwQctK",
        "outputId": "2c1489bb-4bb7-4ca2-8b3c-397c0ffd7256"
      },
      "execution_count": null,
      "outputs": [
        {
          "name": "stdout",
          "output_type": "stream",
          "text": [
            "enter your string :data analytics\n",
            "type \"upper\" for upper case or \"lower\" for lower case conversion :upper\n"
          ]
        },
        {
          "output_type": "execute_result",
          "data": {
            "text/plain": [
              "'DATA ANALYTICS'"
            ],
            "application/vnd.google.colaboratory.intrinsic+json": {
              "type": "string"
            }
          },
          "metadata": {},
          "execution_count": 21
        }
      ]
    },
    {
      "cell_type": "code",
      "source": [
        "# Q-9 Write a code to count the number of words in a string\n",
        "\n",
        "str= input(\"enter your string :\")\n",
        "print(len(str))"
      ],
      "metadata": {
        "colab": {
          "base_uri": "https://localhost:8080/"
        },
        "id": "Kg7UU9EFcSet",
        "outputId": "7eb1dfb9-16ab-4e99-c3e0-c05830a69e52"
      },
      "execution_count": null,
      "outputs": [
        {
          "output_type": "stream",
          "name": "stdout",
          "text": [
            "enter your string :lakshay\n",
            "7\n"
          ]
        }
      ]
    },
    {
      "cell_type": "code",
      "source": [
        "# Q-10 Write a code to concatenate two strings without using the + operator\n",
        "\n",
        "s1=input(\"enter first string :\")\n",
        "s2=input(\"enter second string :\")\n",
        "print(s1+s2)"
      ],
      "metadata": {
        "colab": {
          "base_uri": "https://localhost:8080/"
        },
        "id": "5HRli9hqiV_e",
        "outputId": "ae77e2d1-4f65-418a-ce69-4e3d8626f98a"
      },
      "execution_count": null,
      "outputs": [
        {
          "output_type": "stream",
          "name": "stdout",
          "text": [
            "enter first string :PW\n",
            "enter second string :skills\n",
            "PWskills\n"
          ]
        }
      ]
    },
    {
      "cell_type": "code",
      "source": [
        "# Q-11 Write a code to remove all occurrences of a specific element from a list\n",
        "\n",
        "l= [\"apple\", \"banana\", \"cherry\", \"banana\", \"kiwi\", \"banana\",\"apple\", \"banana\", \"kiwi\",\"apple\"]\n",
        "print(l)\n",
        "str = input(\"enter the item you want to remove :\")\n",
        "for i in l:\n",
        "  if i==str:\n",
        "    l.remove(i)\n",
        "  else: continue\n",
        "\n",
        "print(l)\n",
        "\n",
        "# INSIGHTS: alternate way by using filter and lambda\n",
        "\n",
        "#  my_list = [\"apple\", \"banana\", \"cherry\", \"banana\", \"kiwi\",\"apple\", \"banana\", \"banana\", \"kiwi\"]\n",
        "#  str = input(\"enter the item you want to remove :\")\n",
        "#  new = list(filter(lambda x: x!=str, my_list))\n",
        "#  print(new)"
      ],
      "metadata": {
        "colab": {
          "base_uri": "https://localhost:8080/"
        },
        "id": "hIUezqm7i-j-",
        "outputId": "6693681a-24d7-4840-e7f3-b6cd44831689"
      },
      "execution_count": null,
      "outputs": [
        {
          "output_type": "stream",
          "name": "stdout",
          "text": [
            "['apple', 'banana', 'cherry', 'banana', 'kiwi', 'banana', 'apple', 'banana', 'kiwi', 'apple']\n",
            "enter the item you want to remove :banana\n",
            "['apple', 'cherry', 'kiwi', 'apple', 'kiwi', 'apple']\n"
          ]
        }
      ]
    },
    {
      "cell_type": "code",
      "source": [
        "# Q-12  Implement a code to find the second largest number in a given list of integers\n",
        "\n",
        "l=[44,33,11,22,55,667,100]\n",
        "l.sort()\n",
        "print(l[-2])"
      ],
      "metadata": {
        "id": "cU51v28gnGo3"
      },
      "execution_count": null,
      "outputs": []
    },
    {
      "cell_type": "code",
      "source": [
        "# Q-13 Create a code to count the occurrences of each element in a list and return a dictionary with elements as keys and their counts as values\n",
        "\n",
        "def count_occurrences(lst):\n",
        "    count_dict = {}\n",
        "    for num in lst:\n",
        "        count_dict[num] = count_dict.get(num, 0) + 1\n",
        "    return count_dict\n",
        "\n",
        "my_list = [\"apple\", \"banana\", \"cherry\", \"banana\", \"kiwi\",\"apple\", \"banana\", \"banana\", \"kiwi\"]\n",
        "print(count_occurrences(my_list))"
      ],
      "metadata": {
        "id": "EDQjruAhnGv_",
        "outputId": "05fc4e2e-2941-40a5-e283-f9a399d9ceb5",
        "colab": {
          "base_uri": "https://localhost:8080/"
        }
      },
      "execution_count": null,
      "outputs": [
        {
          "output_type": "stream",
          "name": "stdout",
          "text": [
            "{'apple': 2, 'banana': 4, 'cherry': 1, 'kiwi': 2}\n"
          ]
        }
      ]
    },
    {
      "cell_type": "code",
      "source": [
        "# Q-14 Write a code to reverse a list in-place without using any built-in reverse functions\n",
        "\n",
        "def reverse(l):\n",
        "    l.sort(reverse=True)\n",
        "    return l\n",
        "\n",
        "lst=[23,45,43,12,22,67,78,90]\n",
        "reverse(lst)"
      ],
      "metadata": {
        "id": "JBYVR4srpjEO",
        "outputId": "9cbb3d3c-79ef-45b4-f79f-b97630c6d564",
        "colab": {
          "base_uri": "https://localhost:8080/"
        }
      },
      "execution_count": null,
      "outputs": [
        {
          "output_type": "execute_result",
          "data": {
            "text/plain": [
              "[90, 78, 67, 45, 43, 23, 22, 12]"
            ]
          },
          "metadata": {},
          "execution_count": 12
        }
      ]
    },
    {
      "cell_type": "code",
      "source": [
        "# Q-15 Implement a code to find and remove duplicates from a list while preserving the original order of elements\n",
        "\n",
        "def remove_dup(l1):\n",
        "    new_lst=[]\n",
        "    for i in range(len(l1)):\n",
        "      if l1[i] in new_lst:\n",
        "          continue\n",
        "      else:\n",
        "          new_lst.append(l1[i])\n",
        "    return new_lst\n",
        "\n",
        "my_list1 = [\"apple\", \"banana\", \"cherry\", \"banana\", \"kiwi\",\"apple\", \"banana\", \"banana\", \"kiwi\"]\n",
        "remove_dup(my_list1)"
      ],
      "metadata": {
        "id": "pSVaSRuvrTYd",
        "outputId": "4b290007-c398-45e3-8273-9770e3350c62",
        "colab": {
          "base_uri": "https://localhost:8080/"
        }
      },
      "execution_count": null,
      "outputs": [
        {
          "output_type": "execute_result",
          "data": {
            "text/plain": [
              "['apple', 'banana', 'cherry', 'kiwi']"
            ]
          },
          "metadata": {},
          "execution_count": 27
        }
      ]
    },
    {
      "cell_type": "code",
      "source": [
        "# Q-16 Create a code to check if a given list is sorted (either in ascending or descending order) or not\n",
        "\n",
        "def is_sorted(lst):\n",
        "    if lst == sorted(lst):\n",
        "        return \"Ascending\"\n",
        "    elif lst == sorted(lst, reverse=True):\n",
        "        return \"Descending\"\n",
        "    else:\n",
        "        return \"Not Sorted\"\n",
        "\n",
        "print(is_sorted([1, 2, 3, 4, 5]))\n",
        "print(is_sorted([5, 4, 3, 2, 1]))\n",
        "print(is_sorted([1, 3, 2, 4, 5]))"
      ],
      "metadata": {
        "id": "caiTABCVrY05",
        "outputId": "9d0aad23-aeb0-412e-d93b-59f97fd7adfb",
        "colab": {
          "base_uri": "https://localhost:8080/"
        }
      },
      "execution_count": null,
      "outputs": [
        {
          "output_type": "stream",
          "name": "stdout",
          "text": [
            "Ascending\n",
            "Descending\n",
            "Not Sorted\n"
          ]
        }
      ]
    },
    {
      "cell_type": "code",
      "source": [
        "# Q-17 Write a code to merge two sorted lists into a single sorted list\n",
        "\n",
        "def sort(l1,l2):\n",
        "    new_list=l1+l2\n",
        "    new_list.sort()\n",
        "    return new_list\n",
        "\n",
        "list1=[1, 2, 3, 4, 5]\n",
        "list2=[5, 4, 3, 2, 1]\n",
        "print(sort(list1,list2))"
      ],
      "metadata": {
        "id": "FtY073SvvkeL",
        "outputId": "2875f930-5612-409d-a3db-8aa202e52cb9",
        "colab": {
          "base_uri": "https://localhost:8080/"
        }
      },
      "execution_count": null,
      "outputs": [
        {
          "output_type": "stream",
          "name": "stdout",
          "text": [
            "[1, 1, 2, 2, 3, 3, 4, 4, 5, 5]\n"
          ]
        }
      ]
    },
    {
      "cell_type": "code",
      "source": [
        "# Q-18  Implement a code to find the intersection of two given lists\n",
        "\n",
        "\n",
        "def intersect(l1,l2):\n",
        "     return list(set(l1) & set(l2))\n",
        "\n",
        "list1=[1, 2, 3, 4, 5,6,7,8,9]\n",
        "list2=[5, 4, 3, 2, 1]\n",
        "print(intersect(list1,list2))"
      ],
      "metadata": {
        "id": "i5mtp-aswraM",
        "outputId": "2ea1161b-e6a5-4209-88bc-0031496a52d0",
        "colab": {
          "base_uri": "https://localhost:8080/"
        }
      },
      "execution_count": null,
      "outputs": [
        {
          "output_type": "stream",
          "name": "stdout",
          "text": [
            "[1, 2, 3, 4, 5]\n"
          ]
        }
      ]
    },
    {
      "cell_type": "code",
      "source": [
        "# Q-19  Create a code to find the union of two lists without duplicates\n",
        "\n",
        "def sort(l1,l2):\n",
        "    list=l1+l2\n",
        "    list.sort()\n",
        "    new_list=[]\n",
        "    for i in range(len(list)):\n",
        "      if list[i]==list[i-1]:\n",
        "        continue\n",
        "      else: new_list.append(list[i])\n",
        "    return new_list\n",
        "\n",
        "list1=[1, 2, 3, 4, 5,6]\n",
        "list2=[5, 4, 3, 2, 1,0]\n",
        "print(sort(list1,list2))\n",
        "\n",
        "# INSIGHTS - OTHER WAY\n",
        "\n",
        "# def find_union(list1, list2):\n",
        "#     return list(set(list1) | set(list2))\n",
        "\n",
        "# list1 = [1, 2, 3, 4, 5]\n",
        "# list2 = [4, 5, 6, 7, 8]\n",
        "# print(find_union(list1, list2)\n"
      ],
      "metadata": {
        "id": "a-_UTekl__9_",
        "outputId": "09ec68c0-9988-4d99-c291-585531219ab4",
        "colab": {
          "base_uri": "https://localhost:8080/"
        }
      },
      "execution_count": null,
      "outputs": [
        {
          "output_type": "stream",
          "name": "stdout",
          "text": [
            "[0, 1, 2, 3, 4, 5, 6]\n"
          ]
        }
      ]
    },
    {
      "cell_type": "code",
      "source": [
        "# Q-20 Write a code to shuffle a given list randomly without using any built-in shuffle functions\n",
        "\n",
        "def shuffle_list(lst):\n",
        "    for i in range(len(lst)):\n",
        "        lst[i], lst[i-1] = lst[i-1], lst[i]\n",
        "\n",
        "my_list = [1, 2, 3, 4, 5]\n",
        "print(\"Original List:\", my_list)\n",
        "\n",
        "shuffle_list(my_list)\n",
        "print(\"Shuffled List:\", my_list)\n"
      ],
      "metadata": {
        "id": "IiyIEab4ooXv",
        "outputId": "f8ad6b4e-d5f0-4932-9047-f2cea7bafb6c",
        "colab": {
          "base_uri": "https://localhost:8080/"
        }
      },
      "execution_count": null,
      "outputs": [
        {
          "output_type": "stream",
          "name": "stdout",
          "text": [
            "Original List: [1, 2, 3, 4, 5]\n",
            "Shuffled List: [2, 3, 4, 1, 5]\n"
          ]
        }
      ]
    },
    {
      "cell_type": "code",
      "source": [
        "# Q-21  Write a code that takes two tuples as input and returns a new tuple containing elements that are common to both input tuples\n",
        "\n",
        "def common_elements(t1, t2):\n",
        "    return tuple(set(t1) & set(t2))\n",
        "\n",
        "t1=input(\"enter tuple 1 :\")\n",
        "t2=input(\"enter tuple 2 :\")\n",
        "print(\"common elements :\",common_elements(t1,t2))"
      ],
      "metadata": {
        "id": "sVDPsbn4wG-A",
        "outputId": "0948a4e3-ad4e-492c-8f1b-a928940789c2",
        "colab": {
          "base_uri": "https://localhost:8080/"
        }
      },
      "execution_count": null,
      "outputs": [
        {
          "output_type": "stream",
          "name": "stdout",
          "text": [
            "enter tuple 1 :abcd1234\n",
            "enter tuple 2 :cdef3456\n",
            "common elements : ('3', '4', 'c', 'd')\n"
          ]
        }
      ]
    },
    {
      "cell_type": "code",
      "source": [
        "# Q-22 Create a code that prompts the user to enter two sets of integers separated by commas. Then, print the intersection of these two sets\n",
        "\n",
        "\n",
        "set1 = set(map(int, input(\"Enter first set (separated by comma): \").split(',')))\n",
        "set2 = set(map(int, input(\"Enter second set (separated by comma): \").split(',')))\n",
        "\n",
        "\n",
        "print(\"Intersection:\", set1 & set2)\n"
      ],
      "metadata": {
        "id": "MlqnxTbQ7FYU",
        "outputId": "6dcaef9e-e281-4dd6-82fb-bf2e18dd3fb1",
        "colab": {
          "base_uri": "https://localhost:8080/"
        }
      },
      "execution_count": null,
      "outputs": [
        {
          "output_type": "stream",
          "name": "stdout",
          "text": [
            "Enter first set (separated by comma): 14,54,69,85,77\n",
            "Enter second set (separated by comma): 14,52,36,96,58\n",
            "Intersection: {14}\n"
          ]
        }
      ]
    },
    {
      "cell_type": "code",
      "source": [
        "# Q-23 Write a code to concatenate two tuples. The function should take two tuples as input and return a new tuple containing elements from both input tuples\n",
        "\n",
        "def tuple_concat(t1,t2):\n",
        "    return t1+t2\n",
        "\n",
        "t1=tuple( input(\"Enter first tuple (separated by comma): \").split(','))\n",
        "t2=tuple(input(\"Enter first tuple (separated by comma): \").split(','))\n",
        "print(tuple_concat(t1,t2))"
      ],
      "metadata": {
        "id": "nDK5f_8y7Imb",
        "outputId": "b97a402a-d5c9-42d0-b1d8-ca685513f10e",
        "colab": {
          "base_uri": "https://localhost:8080/"
        }
      },
      "execution_count": null,
      "outputs": [
        {
          "output_type": "stream",
          "name": "stdout",
          "text": [
            "Enter first tuple (separated by comma): apple, banana, google, 45,89,78\n",
            "Enter first tuple (separated by comma): cherry, pizza, mozilla, 88, 23\n",
            "('apple', ' banana', ' google', ' 45', '89', '78', 'cherry', ' pizza', ' mozilla', ' 88', ' 23')\n"
          ]
        }
      ]
    },
    {
      "cell_type": "code",
      "source": [
        "# Q-24  Develop a code that prompts the user to input two sets of strings. Then, print the elements that are present in the first set but not in the second set\n",
        "\n",
        "set1 = set(input(\"Enter first set :\"))\n",
        "set2 = set(input(\"Enter second set :\"))\n",
        "print(\"set 1 :\" , set1)\n",
        "print(\"set 2 :\" , set2)\n",
        "print(\"elements present in set 1 but not in set 2\" ,(set1-set2))"
      ],
      "metadata": {
        "id": "TboqzWQSDdKU",
        "outputId": "16781195-32d6-4a84-86dc-d2b272bbdd21",
        "colab": {
          "base_uri": "https://localhost:8080/"
        }
      },
      "execution_count": null,
      "outputs": [
        {
          "output_type": "stream",
          "name": "stdout",
          "text": [
            "Enter first set :python\n",
            "Enter second set :data \n",
            "set 1 : {'t', 'h', 'y', 'n', 'p', 'o'}\n",
            "set 2 : {'a', 'd', ' ', 't'}\n",
            "elements present in set 1 but not in set 2 {'h', 'y', 'n', 'p', 'o'}\n"
          ]
        }
      ]
    },
    {
      "cell_type": "code",
      "source": [
        "# Q-25  Create a code that takes a tuple and two integers as input. The function should return a new tuple containing elements from the original tuple within the specified range of indices\n",
        "\n",
        "def slice_tuple(tup, start, end):\n",
        "    return tup[start:end+1]\n",
        "\n",
        "tup = tuple(map(int, input(\"Enter elements of the tuple separated by commas: \").split(',')))\n",
        "start = int(input(\"Enter the start index : \"))\n",
        "end = int(input(\"Enter the end index: \"))\n",
        "\n",
        "print(\"Sliced Tuple:\", slice_tuple(tup, start, end))\n"
      ],
      "metadata": {
        "id": "B2JzU_mtDAhF",
        "outputId": "ccc01c75-0e18-4848-a8be-69d019aa1344",
        "colab": {
          "base_uri": "https://localhost:8080/"
        }
      },
      "execution_count": null,
      "outputs": [
        {
          "output_type": "stream",
          "name": "stdout",
          "text": [
            "Enter elements of the tuple separated by commas: 1,2,3,4,5,6,7,8,9\n",
            "Enter the start index: 0\n",
            "Enter the end index: 5\n",
            "Sliced Tuple: (1, 2, 3, 4, 5, 6)\n"
          ]
        }
      ]
    },
    {
      "cell_type": "code",
      "source": [
        "# Q-26 Write a code that prompts the user to input two sets of characters. Then, print the union of these two sets\n",
        "\n",
        "set1 = set(input(\"Enter first set :\"))\n",
        "set2 = set(input(\"Enter second set :\"))\n",
        "print(\"set 1 :\" , set1)\n",
        "print(\"set 2 :\" , set2)\n",
        "print(\"union of these two sets\" ,(set1|set2))"
      ],
      "metadata": {
        "id": "ztVNCUYEHo44",
        "outputId": "d94119e0-07ff-4976-a11e-c9bebe411d49",
        "colab": {
          "base_uri": "https://localhost:8080/"
        }
      },
      "execution_count": null,
      "outputs": [
        {
          "output_type": "stream",
          "name": "stdout",
          "text": [
            "Enter first set :abc\n",
            "Enter second set :ijk\n",
            "set 1 : {'a', 'b', 'c'}\n",
            "set 2 : {'j', 'k', 'i'}\n",
            "union of these two sets {'a', 'i', 'j', 'b', 'k', 'c'}\n"
          ]
        }
      ]
    },
    {
      "cell_type": "code",
      "source": [
        "# Q-27  Develop a code that takes a tuple of integers as input. The function should return the maximum and minimum values from the tuple using tuple unpacking"
      ],
      "metadata": {
        "id": "aoO0xfbSIJEf"
      },
      "execution_count": null,
      "outputs": []
    },
    {
      "cell_type": "code",
      "source": [
        "def max_min(tup):\n",
        "    max_val, min_val = max(tup), min(tup)\n",
        "    return min_val, max_val\n",
        "\n",
        "tup=tuple(map(int,input(\"Enter your integers, separated by comma: \").split(\",\")))\n",
        "print(max_min(tup))\n"
      ],
      "metadata": {
        "id": "q8qW3x1B1UId",
        "outputId": "277932b8-4ee7-49cb-feac-ccf0f9edb4d0",
        "colab": {
          "base_uri": "https://localhost:8080/"
        }
      },
      "execution_count": null,
      "outputs": [
        {
          "output_type": "stream",
          "name": "stdout",
          "text": [
            "Enter your integers, separated by comma: 10,25,65,95,88,32,12,45\n",
            "(10, 95)\n"
          ]
        }
      ]
    },
    {
      "cell_type": "code",
      "source": [
        "# Q-28 Create a code that defines two sets of integers. Then, print the union, intersection, and difference of these two sets\n",
        "\n",
        "set1 = {1, 2, \"apple\", \"banana\", 5}\n",
        "set2 = {3, \"banana\", \"cherry\", 5, 6}\n",
        "\n",
        "union_set = set1 | set2\n",
        "intersection_set = set1 & set2\n",
        "difference_set = set1 - set2\n",
        "\n",
        "print(\"Union:\", union_set)\n",
        "print(\"Intersection:\", intersection_set)\n",
        "print(\"Difference (Set1 - Set2):\", difference_set)\n"
      ],
      "metadata": {
        "id": "CwuSv5vrkuCX",
        "outputId": "0adf064f-0581-46ec-cc5a-2ebdfdd91c70",
        "colab": {
          "base_uri": "https://localhost:8080/"
        }
      },
      "execution_count": null,
      "outputs": [
        {
          "output_type": "stream",
          "name": "stdout",
          "text": [
            "Union: {1, 2, 3, 5, 6, 'cherry', 'apple', 'banana'}\n",
            "Intersection: {5, 'banana'}\n",
            "Difference (Set1 - Set2): {1, 2, 'apple'}\n"
          ]
        }
      ]
    },
    {
      "cell_type": "code",
      "source": [
        "# Q-29 Write a code that takes a tuple and an element as input. The function should return the count of occurrences of the given element in the tuple\n",
        "\n",
        "def count_occurrences(tup, element):\n",
        "    count = 0\n",
        "    for item in tup:\n",
        "        if item == element:\n",
        "            count += 1\n",
        "    return count\n",
        "\n",
        "tup=tuple(input(\"Enter your element, separated by comma: \").split(\",\"))\n",
        "element=(input(\"Enter your element: \"))\n",
        "print(f\"The element '{element}' occurs {count_occurrences(tup, element)} time(s) in the tuple.\")\n",
        "\n",
        "\n",
        "# INSIGHTS - another way\n",
        "\n",
        "# def count_occurrences(tup, element):\n",
        "#     return tup.count(element)\n",
        "\n"
      ],
      "metadata": {
        "id": "6GCJ8TIblWvA",
        "outputId": "6d86ebd1-82fb-431c-8dcc-1eca94fd2efa",
        "colab": {
          "base_uri": "https://localhost:8080/"
        }
      },
      "execution_count": 9,
      "outputs": [
        {
          "output_type": "stream",
          "name": "stdout",
          "text": [
            "Enter your element, separated by comma: a,b,s,d,f,a,b,h,u,1,2,3,5,2,1,5\n",
            "Enter your element: a\n",
            "The element 'a' occurs 2 time(s) in the tuple.\n"
          ]
        }
      ]
    },
    {
      "cell_type": "code",
      "source": [
        "# Q-30 Develop a code that prompts the user to input two sets of strings. Then, print the symmetric difference of these two sets\n",
        "\n",
        "\n",
        "set1 = set(input(\"Enter elements of first set separated by commas: \").split(','))\n",
        "set2 = set(input(\"Enter elements of second set separated by commas: \").split(','))\n",
        "\n",
        "symmetric_diff = set1 ^ set2\n",
        "print(\"Symmetric Difference:\", symmetric_diff)\n"
      ],
      "metadata": {
        "id": "jG6QuaIZ6Bsh",
        "outputId": "9232f9da-d252-46fb-806a-ad77a9582467",
        "colab": {
          "base_uri": "https://localhost:8080/"
        }
      },
      "execution_count": 11,
      "outputs": [
        {
          "output_type": "stream",
          "name": "stdout",
          "text": [
            "Enter elements of first set separated by commas: apple,banana,cherry,daisy,elephant\n",
            "Enter elements of second set separated by commas: apple,berry,papaya,daisy,elephant\n",
            "Symmetric Difference: {'berry', 'cherry', 'banana', 'papaya'}\n"
          ]
        }
      ]
    },
    {
      "cell_type": "code",
      "source": [
        "# Q-31 Write a code that takes a list of words as input and returns a dictionary where the keys are unique words and the values are the frequencies of those words in the input list\n",
        "\n",
        "\n",
        "def dict_append(list1):\n",
        "    this_dict={}\n",
        "    for i in list1:\n",
        "      if i not in this_dict:\n",
        "          this_dict[i]=list1.count(i)\n",
        "    return this_dict\n",
        "\n",
        "list1 = list(input(\"Enter elements of List separated by commas: \").split(','))\n",
        "print(dict_append(list1))\n",
        "\n"
      ],
      "metadata": {
        "id": "VLQbtaxFBKwu",
        "outputId": "cd5ea7c8-f22a-4351-af71-ca4af6361924",
        "colab": {
          "base_uri": "https://localhost:8080/"
        }
      },
      "execution_count": 16,
      "outputs": [
        {
          "output_type": "stream",
          "name": "stdout",
          "text": [
            "Enter elements of List separated by commas: dog,cat,dog,cat,bird,dog\n",
            "{'dog': 3, 'cat': 2, 'bird': 1}\n"
          ]
        }
      ]
    }
  ]
}