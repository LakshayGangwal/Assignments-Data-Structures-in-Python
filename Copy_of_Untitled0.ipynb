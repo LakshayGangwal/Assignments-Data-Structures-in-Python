{
  "nbformat": 4,
  "nbformat_minor": 0,
  "metadata": {
    "colab": {
      "provenance": [],
      "authorship_tag": "ABX9TyPDkycynsUzsmn8+Q+qrJUZ",
      "include_colab_link": true
    },
    "kernelspec": {
      "name": "python3",
      "display_name": "Python 3"
    },
    "language_info": {
      "name": "python"
    }
  },
  "cells": [
    {
      "cell_type": "markdown",
      "metadata": {
        "id": "view-in-github",
        "colab_type": "text"
      },
      "source": [
        "<a href=\"https://colab.research.google.com/github/LakshayGangwal/Assignments-Data-Structures-in-Python/blob/main/Copy_of_Untitled0.ipynb\" target=\"_parent\"><img src=\"https://colab.research.google.com/assets/colab-badge.svg\" alt=\"Open In Colab\"/></a>"
      ]
    },
    {
      "cell_type": "code",
      "execution_count": null,
      "metadata": {
        "colab": {
          "base_uri": "https://localhost:8080/"
        },
        "id": "423E3OaRxL4h",
        "outputId": "34ce308d-f0ac-4733-fd8f-c45fd0bd8523"
      },
      "outputs": [
        {
          "output_type": "stream",
          "name": "stdout",
          "text": [
            "Enter a string: andaman\n",
            "namadna\n"
          ]
        }
      ],
      "source": [
        "# Q-1 Write a code to reverse a string\n",
        "\n",
        "def reverse_string(s):\n",
        "    return s[::-1]\n",
        "\n",
        "str = input(\"Enter a string: \")\n",
        "print(reverse_string(str))"
      ]
    },
    {
      "cell_type": "code",
      "source": [
        "# Q-2 Write a code to count the number of vowels in a string\n",
        "\n",
        "def count_vowel(s):\n",
        "    vowels=\"AEIOUaeiou\"\n",
        "    count = 0\n",
        "    for i in s:\n",
        "        if i in vowels:\n",
        "          count+=1\n",
        "        else:\n",
        "          continue\n",
        "    return count\n",
        "\n",
        "str = input(\"Enter a string: \")\n",
        "print(count_vowel(str))\n"
      ],
      "metadata": {
        "id": "CcRSz4UsEHJW",
        "outputId": "c0e11491-6b75-450b-af34-19484cd3e4b8",
        "colab": {
          "base_uri": "https://localhost:8080/"
        }
      },
      "execution_count": null,
      "outputs": [
        {
          "output_type": "stream",
          "name": "stdout",
          "text": [
            "Enter a string: Data analytics\n",
            "5\n"
          ]
        }
      ]
    },
    {
      "cell_type": "code",
      "source": [
        "# Q-3  Write a code to check if a given string is a palindrome or not\n",
        "\n",
        "def palindrome(s):\n",
        "    if s==s[::-1]:\n",
        "      return(s + \" is a Palindrome\")\n",
        "    else:\n",
        "      return(s + \" is not a Palindrome\")\n",
        "\n",
        "str=input(\"Enter your word: \")\n",
        "palindrome(str)"
      ],
      "metadata": {
        "colab": {
          "base_uri": "https://localhost:8080/",
          "height": 53
        },
        "id": "7O1lQWudQphI",
        "outputId": "0749c082-8bc4-427b-db58-71e637575990"
      },
      "execution_count": 13,
      "outputs": [
        {
          "name": "stdout",
          "output_type": "stream",
          "text": [
            "Enter your word: rotator\n"
          ]
        },
        {
          "output_type": "execute_result",
          "data": {
            "text/plain": [
              "'rotator is a Palindrome'"
            ],
            "application/vnd.google.colaboratory.intrinsic+json": {
              "type": "string"
            }
          },
          "metadata": {},
          "execution_count": 13
        }
      ]
    },
    {
      "cell_type": "code",
      "source": [
        "# q-4 Write a code to check if two given strings are anagrams of each other\n",
        "\n",
        "def anagram(s1,s2):\n",
        "  if sorted(s1)==sorted(s2):\n",
        "    print(s1 + \" and \" + s2 + \" are anagrams\")\n",
        "  else: print(s1 + \" and \" + s2 + \" are not anagrams\")\n",
        "\n",
        "str1=input(\"Enter first string: \")\n",
        "str2=input(\"Enter second string: \")\n",
        "anagram(str1,str2)"
      ],
      "metadata": {
        "colab": {
          "base_uri": "https://localhost:8080/"
        },
        "id": "kr5wt5_qSW3k",
        "outputId": "dd786ccd-654c-42cd-fe2c-6d76ee707e75"
      },
      "execution_count": 18,
      "outputs": [
        {
          "output_type": "stream",
          "name": "stdout",
          "text": [
            "Enter first string: earth\n",
            "Enter second string: heart\n",
            "earth and heart are anagrams\n"
          ]
        }
      ]
    },
    {
      "cell_type": "code",
      "source": [
        "# Q-5 Write a code to find all occurrences of a given substring within another string\n",
        "\n",
        "def check_script(s1,s2):\n",
        "    if s2 in s1:\n",
        "      print(s2 + \" is a substring\")\n",
        "    else:\n",
        "      print(s2 + \" is not a substring\")\n",
        "\n",
        "str1 = input(\"Enter string 1 :\")\n",
        "str2 = input(\"Enter string 2 :\")\n",
        "check_script(str1,str2)\n",
        "\n",
        "# INSIGHTS: this program could also be done with the help of .find() method"
      ],
      "metadata": {
        "colab": {
          "base_uri": "https://localhost:8080/"
        },
        "id": "SpFGCWpDTlLs",
        "outputId": "2758e3d4-7531-41e5-a1ae-38f28323678f"
      },
      "execution_count": 42,
      "outputs": [
        {
          "output_type": "stream",
          "name": "stdout",
          "text": [
            "Enter string 1 :Hello PWskills\n",
            "Enter string 2 :skill\n",
            "skill is a substring\n"
          ]
        }
      ]
    },
    {
      "cell_type": "code",
      "source": [
        "# Q-5 Write a code to perform basic string compression using the counts of repeated characters\n",
        "\n",
        "def count_char(s):\n",
        "    count=0\n",
        "    l=list(s)\n",
        "    l.sort()\n",
        "    for i in range(len(l)):\n",
        "      if l[i]==l[i-1]: continue\n",
        "      else: print(l[i])\n",
        "\n",
        "str = input(\"enter your string :\")\n",
        "count_char(str)\n",
        "\n"
      ],
      "metadata": {
        "id": "qIc0L1xNnE_Z",
        "outputId": "73ed5feb-59fd-47be-c9c4-325c958da8c7",
        "colab": {
          "base_uri": "https://localhost:8080/"
        }
      },
      "execution_count": 51,
      "outputs": [
        {
          "output_type": "stream",
          "name": "stdout",
          "text": [
            "enter your string :lakshay\n",
            "a\n",
            "h\n",
            "k\n",
            "l\n",
            "s\n",
            "y\n"
          ]
        }
      ]
    },
    {
      "cell_type": "code",
      "source": [
        "def compress_string(s):\n",
        "    if not s:\n",
        "        return \"\"\n",
        "\n",
        "    result = \"\"\n",
        "    count = 1\n",
        "\n",
        "    for i in range(1, len(s)):\n",
        "        if s[i] == s[i-1]:\n",
        "            count += 1\n",
        "        else:\n",
        "            result += s[i-1] + str(count)\n",
        "            count = 1\n",
        "\n",
        "    # Add the last character and its count\n",
        "    result += s[-1] + str(count)\n",
        "\n",
        "    return result if len(result) < len(s) else s\n",
        "\n",
        "# Example\n",
        "print(compress_string(\"aabbccc\"))  # Output: a2b2c3\n",
        "print(compress_string(\"\"))         # Output: \"\"\n",
        "print(compress_string(\"abcd\"))     # Output: abcd\n"
      ],
      "metadata": {
        "id": "dftC7gj1Isbj",
        "outputId": "7e29571f-b022-429e-861d-fd39966c8fb4",
        "colab": {
          "base_uri": "https://localhost:8080/",
          "height": 332
        }
      },
      "execution_count": 59,
      "outputs": [
        {
          "output_type": "error",
          "ename": "TypeError",
          "evalue": "'str' object is not callable",
          "traceback": [
            "\u001b[0;31m---------------------------------------------------------------------------\u001b[0m",
            "\u001b[0;31mTypeError\u001b[0m                                 Traceback (most recent call last)",
            "\u001b[0;32m<ipython-input-59-a8cb4982bf45>\u001b[0m in \u001b[0;36m<cell line: 0>\u001b[0;34m()\u001b[0m\n\u001b[1;32m     19\u001b[0m \u001b[0;34m\u001b[0m\u001b[0m\n\u001b[1;32m     20\u001b[0m \u001b[0;31m# Example\u001b[0m\u001b[0;34m\u001b[0m\u001b[0;34m\u001b[0m\u001b[0m\n\u001b[0;32m---> 21\u001b[0;31m \u001b[0mprint\u001b[0m\u001b[0;34m(\u001b[0m\u001b[0mcompress_string\u001b[0m\u001b[0;34m(\u001b[0m\u001b[0;34m\"aabbccc\"\u001b[0m\u001b[0;34m)\u001b[0m\u001b[0;34m)\u001b[0m  \u001b[0;31m# Output: a2b2c3\u001b[0m\u001b[0;34m\u001b[0m\u001b[0;34m\u001b[0m\u001b[0m\n\u001b[0m\u001b[1;32m     22\u001b[0m \u001b[0mprint\u001b[0m\u001b[0;34m(\u001b[0m\u001b[0mcompress_string\u001b[0m\u001b[0;34m(\u001b[0m\u001b[0;34m\"\"\u001b[0m\u001b[0;34m)\u001b[0m\u001b[0;34m)\u001b[0m         \u001b[0;31m# Output: \"\"\u001b[0m\u001b[0;34m\u001b[0m\u001b[0;34m\u001b[0m\u001b[0m\n\u001b[1;32m     23\u001b[0m \u001b[0mprint\u001b[0m\u001b[0;34m(\u001b[0m\u001b[0mcompress_string\u001b[0m\u001b[0;34m(\u001b[0m\u001b[0;34m\"abcd\"\u001b[0m\u001b[0;34m)\u001b[0m\u001b[0;34m)\u001b[0m     \u001b[0;31m# Output: abcd\u001b[0m\u001b[0;34m\u001b[0m\u001b[0;34m\u001b[0m\u001b[0m\n",
            "\u001b[0;32m<ipython-input-59-a8cb4982bf45>\u001b[0m in \u001b[0;36mcompress_string\u001b[0;34m(s)\u001b[0m\n\u001b[1;32m     10\u001b[0m             \u001b[0mcount\u001b[0m \u001b[0;34m+=\u001b[0m \u001b[0;36m1\u001b[0m\u001b[0;34m\u001b[0m\u001b[0;34m\u001b[0m\u001b[0m\n\u001b[1;32m     11\u001b[0m         \u001b[0;32melse\u001b[0m\u001b[0;34m:\u001b[0m\u001b[0;34m\u001b[0m\u001b[0;34m\u001b[0m\u001b[0m\n\u001b[0;32m---> 12\u001b[0;31m             \u001b[0mresult\u001b[0m \u001b[0;34m+=\u001b[0m \u001b[0ms\u001b[0m\u001b[0;34m[\u001b[0m\u001b[0mi\u001b[0m\u001b[0;34m-\u001b[0m\u001b[0;36m1\u001b[0m\u001b[0;34m]\u001b[0m \u001b[0;34m+\u001b[0m \u001b[0mstr\u001b[0m\u001b[0;34m(\u001b[0m\u001b[0mcount\u001b[0m\u001b[0;34m)\u001b[0m\u001b[0;34m\u001b[0m\u001b[0;34m\u001b[0m\u001b[0m\n\u001b[0m\u001b[1;32m     13\u001b[0m             \u001b[0mcount\u001b[0m \u001b[0;34m=\u001b[0m \u001b[0;36m1\u001b[0m\u001b[0;34m\u001b[0m\u001b[0;34m\u001b[0m\u001b[0m\n\u001b[1;32m     14\u001b[0m \u001b[0;34m\u001b[0m\u001b[0m\n",
            "\u001b[0;31mTypeError\u001b[0m: 'str' object is not callable"
          ]
        }
      ]
    }
  ]
}