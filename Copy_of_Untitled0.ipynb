{
  "nbformat": 4,
  "nbformat_minor": 0,
  "metadata": {
    "colab": {
      "provenance": []
    },
    "kernelspec": {
      "name": "python3",
      "display_name": "Python 3"
    },
    "language_info": {
      "name": "python"
    }
  },
  "cells": [
    {
      "cell_type": "code",
      "execution_count": null,
      "metadata": {
        "colab": {
          "base_uri": "https://localhost:8080/"
        },
        "id": "423E3OaRxL4h",
        "outputId": "34ce308d-f0ac-4733-fd8f-c45fd0bd8523"
      },
      "outputs": [
        {
          "output_type": "stream",
          "name": "stdout",
          "text": [
            "Enter a string: andaman\n",
            "namadna\n"
          ]
        }
      ],
      "source": [
        "# Q-1 Write a code to reverse a string\n",
        "\n",
        "def reverse_string(s):\n",
        "    return s[::-1]\n",
        "\n",
        "str = input(\"Enter a string: \")\n",
        "print(reverse_string(str))"
      ]
    }
  ]
}